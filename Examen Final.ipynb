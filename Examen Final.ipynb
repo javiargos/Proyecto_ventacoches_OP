{
 "cells": [
  {
   "cell_type": "code",
   "execution_count": 1,
   "metadata": {},
   "outputs": [
    {
     "data": {
      "text/plain": [
       "'C:\\\\spark\\\\spark-2.3.3-bin-hadoop2.7'"
      ]
     },
     "execution_count": 1,
     "metadata": {},
     "output_type": "execute_result"
    }
   ],
   "source": [
    "import findspark\n",
    "findspark.init()\n",
    "findspark.find()\n",
    "\n",
    "import pyspark\n",
    "findspark.find()"
   ]
  },
  {
   "cell_type": "code",
   "execution_count": 2,
   "metadata": {},
   "outputs": [
    {
     "name": "stdout",
     "output_type": "stream",
     "text": [
      "<SparkContext master=local[3] appName=pyspark-shell>\n"
     ]
    }
   ],
   "source": [
    "from pyspark import SparkContext\n",
    "sc=SparkContext(master=\"local[3]\")\n",
    "print(sc)"
   ]
  },
  {
   "cell_type": "code",
   "execution_count": 3,
   "metadata": {},
   "outputs": [],
   "source": [
    "from pyspark.sql.session import SparkSession\n",
    "spark = SparkSession.builder.appName(\"spark_alquilar\").getOrCreate()"
   ]
  },
  {
   "cell_type": "code",
   "execution_count": 97,
   "metadata": {
    "scrolled": true
   },
   "outputs": [
    {
     "name": "stdout",
     "output_type": "stream",
     "text": [
      "+--------+--------------+----------+------------+-------+--------+------------+-----+-------+-------+\n",
      "|ingresos|gastos_comunes|pago_coche|gastos_otros|ahorros|vivienda|estado_civil|hijos|trabajo|comprar|\n",
      "+--------+--------------+----------+------------+-------+--------+------------+-----+-------+-------+\n",
      "|    6000|          1000|         0|         600|  50000|  400000|           0|    2|      2|      1|\n",
      "|    6745|           944|       123|         429|  43240|  636897|           1|    3|      6|      0|\n",
      "|    6455|          1033|        98|         795|  57463|  321779|           2|    1|      8|      1|\n",
      "|    7098|          1278|        15|         254|  54506|  660933|           0|    0|      3|      0|\n",
      "|    6167|           863|       223|         520|  41512|  348932|           0|    0|      3|      1|\n",
      "|    5692|           911|        11|         325|  50875|  360863|           1|    4|      5|      1|\n",
      "|    6830|          1298|       345|         309|  46761|  429812|           1|    1|      5|      1|\n",
      "|    6470|          1035|        39|         782|  57439|  606291|           0|    0|      1|      0|\n",
      "|    6251|          1250|       209|         571|  50503|  291010|           0|    0|      3|      1|\n",
      "|    6987|          1258|       252|         245|  40611|  324098|           2|    1|      7|      1|\n",
      "|    7273|          1455|       303|         201|  39340|  577972|           0|    0|      0|      0|\n",
      "|    5058|          1012|        74|         463|  51836|  427334|           2|    0|      2|      0|\n",
      "|    5663|           793|       121|         225|  67971|  524971|           2|    3|      6|      1|\n",
      "|    6139|           921|       210|         387|  65438|  333239|           1|    3|      8|      1|\n",
      "|    7567|          1059|       341|         339|  42462|  641963|           2|    2|      5|      0|\n",
      "|    5749|           690|       291|         698|  50257|  305122|           2|    0|      4|      1|\n",
      "|    5685|           910|       182|         271|  66947|  365809|           1|    2|      8|      1|\n",
      "|    6722|           807|        52|         779|  66020|  593711|           2|    2|      7|      0|\n",
      "|    7705|          1387|       348|         366|  65410|  597411|           0|    0|      2|      0|\n",
      "|    6038|           966|        53|         270|  69636|  286581|           1|    1|      7|      1|\n",
      "+--------+--------------+----------+------------+-------+--------+------------+-----+-------+-------+\n",
      "only showing top 20 rows\n",
      "\n"
     ]
    }
   ],
   "source": [
    "comprar_alquilar = spark.read.csv('./comprar_alquilar (1).csv', header='true', inferSchema='true', sep=',') \n",
    "comprar_alquilar.show()"
   ]
  },
  {
   "cell_type": "code",
   "execution_count": 98,
   "metadata": {},
   "outputs": [
    {
     "data": {
      "text/plain": [
       "[('ingresos', 'int'),\n",
       " ('gastos_comunes', 'int'),\n",
       " ('pago_coche', 'int'),\n",
       " ('gastos_otros', 'int'),\n",
       " ('ahorros', 'int'),\n",
       " ('vivienda', 'int'),\n",
       " ('estado_civil', 'int'),\n",
       " ('hijos', 'int'),\n",
       " ('trabajo', 'int'),\n",
       " ('comprar', 'int')]"
      ]
     },
     "execution_count": 98,
     "metadata": {},
     "output_type": "execute_result"
    }
   ],
   "source": [
    "comprar_alquilar.dtypes "
   ]
  },
  {
   "cell_type": "code",
   "execution_count": 99,
   "metadata": {},
   "outputs": [],
   "source": [
    "import pyspark.ml.feature as ft\n",
    "featuresCreator = ft.VectorAssembler(\n",
    "    inputCols=['ingresos','ahorros','vivienda','hijos'], \n",
    "    outputCol='features'\n",
    ")\n",
    "output = featuresCreator.transform(comprar_alquilar)"
   ]
  },
  {
   "cell_type": "code",
   "execution_count": 100,
   "metadata": {},
   "outputs": [],
   "source": [
    "from pyspark.ml.classification import NaiveBayes"
   ]
  },
  {
   "cell_type": "code",
   "execution_count": 101,
   "metadata": {},
   "outputs": [],
   "source": [
    "nb=cl.NaiveBayes(featuresCol='features', labelCol='comprar')"
   ]
  },
  {
   "cell_type": "code",
   "execution_count": 109,
   "metadata": {},
   "outputs": [],
   "source": [
    "data_train, data_test = comprar_alquilar.randomSplit([0.8, 0.2])"
   ]
  },
  {
   "cell_type": "code",
   "execution_count": 110,
   "metadata": {},
   "outputs": [],
   "source": [
    "from pyspark.ml import Pipeline\n",
    "pipeline = Pipeline(stages=[featuresCreator, nb])\n",
    "model = pipeline.fit(data_train)"
   ]
  },
  {
   "cell_type": "code",
   "execution_count": 111,
   "metadata": {},
   "outputs": [],
   "source": [
    "test_model = model.transform(data_test)"
   ]
  },
  {
   "cell_type": "code",
   "execution_count": 131,
   "metadata": {},
   "outputs": [
    {
     "name": "stdout",
     "output_type": "stream",
     "text": [
      "+--------+-------+--------+-----+----------+\n",
      "|ingresos|ahorros|vivienda|hijos|prediction|\n",
      "+--------+-------+--------+-----+----------+\n",
      "|    2008|  25658|  180374|    3|       1.0|\n",
      "|    2028|  37309|  284984|    0|       1.0|\n",
      "|    2064|  38718|  356201|    0|       0.0|\n",
      "|    2151|  12203|  339143|    1|       0.0|\n",
      "|    2265|  19218|  248465|    0|       0.0|\n",
      "|    2448|  32723|  362523|    0|       0.0|\n",
      "|    2485|  18464|  304018|    2|       0.0|\n",
      "|    2516|  16649|  262250|    0|       0.0|\n",
      "|    2614|  21365|  294601|    0|       0.0|\n",
      "|    2937|  13268|  177774|    1|       0.0|\n",
      "|    3000|  27572|  254359|    0|       0.0|\n",
      "|    3162|  26270|  216440|    2|       1.0|\n",
      "|    3218|  39174|  330991|    1|       1.0|\n",
      "|    3334|  19985|  376892|    2|       0.0|\n",
      "|    3543|  30918|  327691|    4|       0.0|\n",
      "|    3731|  39448|  349870|    0|       0.0|\n",
      "|    3796|  35445|  210261|    0|       1.0|\n",
      "|    3976|  11697|  218574|    0|       0.0|\n",
      "|    4054|  22183|  223971|    0|       0.0|\n",
      "|    4276|  11718|  294150|    0|       0.0|\n",
      "+--------+-------+--------+-----+----------+\n",
      "only showing top 20 rows\n",
      "\n"
     ]
    }
   ],
   "source": [
    "test_model.select('ingresos','ahorros','vivienda','hijos','prediction').show()"
   ]
  },
  {
   "cell_type": "code",
   "execution_count": 140,
   "metadata": {},
   "outputs": [
    {
     "name": "stdout",
     "output_type": "stream",
     "text": [
      "+--------+-------+--------+-----+\n",
      "|ingresos|ahorros|vivienda|hijos|\n",
      "+--------+-------+--------+-----+\n",
      "|    2000|   5000|  200000|    0|\n",
      "|    6000|  34000|  320000|    2|\n",
      "+--------+-------+--------+-----+\n",
      "\n"
     ]
    }
   ],
   "source": [
    "df = spark.createDataFrame([\n",
    "        (2000, 5000, 200000,0),\n",
    "        (6000, 34000, 320000,2),], ['ingresos','ahorros','vivienda','hijos'])\n",
    "df.show()"
   ]
  },
  {
   "cell_type": "code",
   "execution_count": 136,
   "metadata": {},
   "outputs": [],
   "source": [
    "prediccion = model.transform(df)"
   ]
  },
  {
   "cell_type": "code",
   "execution_count": 139,
   "metadata": {},
   "outputs": [
    {
     "name": "stdout",
     "output_type": "stream",
     "text": [
      "+----------+\n",
      "|prediction|\n",
      "+----------+\n",
      "|         0|\n",
      "|         1|\n",
      "+----------+\n",
      "\n"
     ]
    }
   ],
   "source": [
    "prediccion.select(\"prediction\").show()"
   ]
  }
 ],
 "metadata": {
  "kernelspec": {
   "display_name": "Python 3",
   "language": "python",
   "name": "python3"
  },
  "language_info": {
   "codemirror_mode": {
    "name": "ipython",
    "version": 3
   },
   "file_extension": ".py",
   "mimetype": "text/x-python",
   "name": "python",
   "nbconvert_exporter": "python",
   "pygments_lexer": "ipython3",
   "version": "3.7.4"
  }
 },
 "nbformat": 4,
 "nbformat_minor": 2
}
